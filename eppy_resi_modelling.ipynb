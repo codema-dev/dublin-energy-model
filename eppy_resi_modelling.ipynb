{
 "cells": [
  {
   "cell_type": "code",
   "execution_count": 8,
   "metadata": {},
   "outputs": [],
   "source": [
    "from eppy import modeleditor\n",
    "from eppy.modeleditor import IDF\n",
    "import pandas as pd"
   ]
  },
  {
   "cell_type": "code",
   "execution_count": 31,
   "metadata": {},
   "outputs": [
    {
     "name": "stdout",
     "output_type": "stream",
     "text": [
      "Requirement already satisfied: pandas in /usr/local/lib/python3.7/site-packages (1.2.0)\n",
      "Requirement already satisfied: numpy>=1.16.5 in /usr/local/lib/python3.7/site-packages (from pandas) (1.19.5)\n",
      "Requirement already satisfied: pytz>=2017.3 in /usr/local/lib/python3.7/site-packages (from pandas) (2020.5)\n",
      "Requirement already satisfied: python-dateutil>=2.7.3 in /usr/local/lib/python3.7/site-packages (from pandas) (2.8.1)\n",
      "Requirement already satisfied: six>=1.5 in /usr/local/lib/python3.7/site-packages (from python-dateutil>=2.7.3->pandas) (1.15.0)\n",
      "Note: you may need to restart the kernel to use updated packages.\n"
     ]
    }
   ],
   "source": [
    "pip install pandas"
   ]
  },
  {
   "cell_type": "code",
   "execution_count": 11,
   "metadata": {},
   "outputs": [],
   "source": [
    "IDF.setiddname('/usr/local/bin/Energy+.idd')"
   ]
  },
  {
   "cell_type": "code",
   "execution_count": 15,
   "metadata": {
    "scrolled": true
   },
   "outputs": [
    {
     "name": "stdout",
     "output_type": "stream",
     "text": [
      "\r\n",
      "/usr/local/bin/energyplus --weather /idf/det_pre/IRL_Dublin.039690_IWEC.epw --output-directory /idf/det_pre --idd /usr/local/bin/Energy+.idd --expandobjects --readvars /in.idf\r\n",
      "\n"
     ]
    }
   ],
   "source": [
    "idf = IDF('/idf/det_pre/detatched_pre.idf')\n",
    "idf.epw = \"idf/det_pre/IRL_Dublin.039690_IWEC.epw\"\n",
    "idf.run(expandobjects=True, readvars=True, output_directory=\"/idf/det_pre\")"
   ]
  },
  {
   "cell_type": "code",
   "execution_count": 17,
   "metadata": {},
   "outputs": [
    {
     "name": "stdout",
     "output_type": "stream",
     "text": [
      "8584366.459649652 26343.66 6439.15 19904.51\n"
     ]
    }
   ],
   "source": [
    "df = pd.read_csv(\"idf/det_pre/eplusmtr.csv\")\n",
    "peak_demand_joule_det_pre = df[\"Electricity:Facility [J](Hourly)\"].max()\n",
    "df2 = pd.read_html(\"idf/det_pre/eplustbl.htm\")\n",
    "df_e = pd.DataFrame(df2[0])\n",
    "ann_energy_demand_kwh_det_pre = df_e.iloc[1,1]\n",
    "df3 = pd.DataFrame(df2[3])\n",
    "ann_elec_demand_kwh_det_pre = df3.iloc[16,1]\n",
    "ann_heat_demand_kwh_det_pre = df3.iloc[16,5]\n",
    "print(peak_demand_joule_det_pre, ann_energy_demand_kwh_det_pre, ann_elec_demand_kwh_det_pre, ann_heat_demand_kwh_det_pre)"
   ]
  },
  {
   "cell_type": "code",
   "execution_count": 7,
   "metadata": {},
   "outputs": [
    {
     "name": "stdout",
     "output_type": "stream",
     "text": [
      "\r\n",
      "/usr/local/bin/energyplus --weather /idf/det_post/IRL_Dublin.039690_IWEC.epw --output-directory /idf/det_post --idd /usr/local/bin/Energy+.idd --expandobjects --readvars /in.idf\r\n",
      "\n"
     ]
    }
   ],
   "source": [
    "del idf\n",
    "idf = IDF('/idf/det_post/detatched_post.idf')\n",
    "idf.epw = \"idf/det_post/IRL_Dublin.039690_IWEC.epw\"\n",
    "idf.run(expandobjects=True, readvars=True, output_directory=\"/idf/det_post\")"
   ]
  },
  {
   "cell_type": "code",
   "execution_count": 24,
   "metadata": {},
   "outputs": [
    {
     "name": "stdout",
     "output_type": "stream",
     "text": [
      "7240166.818522849 16097.65 5171.22 10926.43\n"
     ]
    }
   ],
   "source": [
    "df = pd.read_csv(\"idf/det_post/eplusmtr.csv\")\n",
    "peak_demand_joule_det_post = df[\"Electricity:Facility [J](Hourly)\"].max()\n",
    "df2 = pd.read_html(\"idf/det_post/eplustbl.htm\")\n",
    "df_e = pd.DataFrame(df2[0])\n",
    "ann_energy_demand_kwh_det_post = df_e.iloc[1,1]\n",
    "df3 = pd.DataFrame(df2[3])\n",
    "ann_elec_demand_kwh_det_post = df3.iloc[16,1]\n",
    "ann_heat_demand_kwh_det_post = df3.iloc[16,5]\n",
    "print(peak_demand_joule_det_post, ann_energy_demand_kwh_det_post, ann_elec_demand_kwh_det_post, ann_heat_demand_kwh_det_post)"
   ]
  },
  {
   "cell_type": "code",
   "execution_count": 9,
   "metadata": {},
   "outputs": [
    {
     "name": "stdout",
     "output_type": "stream",
     "text": [
      "\r\n",
      "/usr/local/bin/energyplus --weather /idf/semid_pre/IRL_Dublin.039690_IWEC.epw --output-directory /idf/semid_pre --idd /usr/local/bin/Energy+.idd --expandobjects --readvars /in.idf\r\n",
      "\n"
     ]
    }
   ],
   "source": [
    "del idf\n",
    "idf = IDF('/idf/semi_d_pre/semi_d_pre.idf')\n",
    "idf.epw = \"idf/semi_d_pre/IRL_Dublin.039690_IWEC.epw\"\n",
    "idf.run(expandobjects=True, readvars=True, output_directory=\"/idf/semid_pre\")"
   ]
  },
  {
   "cell_type": "code",
   "execution_count": 25,
   "metadata": {},
   "outputs": [
    {
     "name": "stdout",
     "output_type": "stream",
     "text": [
      "6177061.326873895 25113.73 5149.22 19964.51\n"
     ]
    }
   ],
   "source": [
    "df = pd.read_csv(\"idf/semi_d_pre/eplusmtr.csv\")\n",
    "peak_demand_joule_semid_pre = df[\"Electricity:Facility [J](Hourly)\"].max()\n",
    "df2 = pd.read_html(\"idf/semi_d_pre/eplustbl.htm\")\n",
    "df_e = pd.DataFrame(df2[0])\n",
    "ann_energy_demand_kwh_semid_pre = df_e.iloc[1,1]\n",
    "df3 = pd.DataFrame(df2[3])\n",
    "ann_elec_demand_kwh_semid_pre = df3.iloc[16,1]\n",
    "ann_heat_demand_kwh_semid_pre = df3.iloc[16,5]\n",
    "print(peak_demand_joule_semid_pre, ann_energy_demand_kwh_semid_pre, ann_elec_demand_kwh_semid_pre, ann_heat_demand_kwh_semid_pre)"
   ]
  },
  {
   "cell_type": "code",
   "execution_count": 11,
   "metadata": {},
   "outputs": [
    {
     "name": "stdout",
     "output_type": "stream",
     "text": [
      "\r\n",
      "/usr/local/bin/energyplus --weather /idf/semid_post/IRL_Dublin.039690_IWEC.epw --output-directory /idf/semid_post --idd /usr/local/bin/Energy+.idd --expandobjects --readvars /in.idf\r\n",
      "\n"
     ]
    }
   ],
   "source": [
    "del idf\n",
    "idf = IDF('/idf/semi_d_post/semi_d_post.idf')\n",
    "idf.epw = \"idf/semi_d_post/IRL_Dublin.039690_IWEC.epw\"\n",
    "idf.run(expandobjects=True, readvars=True, output_directory=\"/idf/semid_post\")"
   ]
  },
  {
   "cell_type": "code",
   "execution_count": 26,
   "metadata": {},
   "outputs": [
    {
     "name": "stdout",
     "output_type": "stream",
     "text": [
      "4723727.966424771 9736.54 3804.43 5932.10\n"
     ]
    }
   ],
   "source": [
    "df = pd.read_csv(\"idf/semi_d_post/eplusmtr.csv\")\n",
    "peak_demand_joule_semid_post = df[\"Electricity:Facility [J](Hourly)\"].max()\n",
    "df2 = pd.read_html(\"idf/semi_d_post/eplustbl.htm\")\n",
    "df_e = pd.DataFrame(df2[0])\n",
    "ann_energy_demand_kwh_semid_post = df_e.iloc[1,1]\n",
    "df3 = pd.DataFrame(df2[3])\n",
    "ann_elec_demand_kwh_semid_post = df3.iloc[16,1]\n",
    "ann_heat_demand_kwh_semid_post = df3.iloc[16,5]\n",
    "print(peak_demand_joule_semid_post, ann_energy_demand_kwh_semid_post, ann_elec_demand_kwh_semid_post, ann_heat_demand_kwh_semid_post)"
   ]
  },
  {
   "cell_type": "code",
   "execution_count": 13,
   "metadata": {},
   "outputs": [
    {
     "name": "stdout",
     "output_type": "stream",
     "text": [
      "\r\n",
      "/usr/local/bin/energyplus --weather /idf/terr_pre/IRL_Dublin.039690_IWEC.epw --output-directory /idf/terr_pre --idd /usr/local/bin/Energy+.idd --expandobjects --readvars /in.idf\r\n",
      "\n"
     ]
    }
   ],
   "source": [
    "del idf\n",
    "idf = IDF('/idf/terr_pre/terraced_pre.idf')\n",
    "idf.epw = \"idf/terr_pre/IRL_Dublin.039690_IWEC.epw\"\n",
    "idf.run(expandobjects=True, readvars=True, output_directory=\"/idf/terr_pre\")"
   ]
  },
  {
   "cell_type": "code",
   "execution_count": 27,
   "metadata": {},
   "outputs": [
    {
     "name": "stdout",
     "output_type": "stream",
     "text": [
      "3783938.4093833286 15126.49 2531.93 12594.56\n"
     ]
    }
   ],
   "source": [
    "df = pd.read_csv(\"idf/terr_pre/eplusmtr.csv\")\n",
    "peak_demand_joule_terr_pre = df[\"Electricity:Facility [J](Hourly)\"].max()\n",
    "df2 = pd.read_html(\"idf/terr_pre/eplustbl.htm\")\n",
    "df_e = pd.DataFrame(df2[0])\n",
    "ann_energy_demand_kwh_terr_pre = df_e.iloc[1,1]\n",
    "df3 = pd.DataFrame(df2[3])\n",
    "ann_elec_demand_kwh_terr_pre = df3.iloc[16,1]\n",
    "ann_heat_demand_kwh_terr_pre = df3.iloc[16,5]\n",
    "print(peak_demand_joule_terr_pre, ann_energy_demand_kwh_terr_pre, ann_elec_demand_kwh_terr_pre, ann_heat_demand_kwh_terr_pre)"
   ]
  },
  {
   "cell_type": "code",
   "execution_count": 15,
   "metadata": {},
   "outputs": [
    {
     "name": "stdout",
     "output_type": "stream",
     "text": [
      "\r\n",
      "/usr/local/bin/energyplus --weather /idf/terr_post/IRL_Dublin.039690_IWEC.epw --output-directory /idf/terr_post --idd /usr/local/bin/Energy+.idd --expandobjects --readvars /in.idf\r\n",
      "\n"
     ]
    }
   ],
   "source": [
    "del idf\n",
    "idf = IDF('/idf/terr_post/terraced_post.idf')\n",
    "idf.epw = \"idf/terr_post/IRL_Dublin.039690_IWEC.epw\"\n",
    "idf.run(expandobjects=True, readvars=True, output_directory=\"/idf/terr_post\")"
   ]
  },
  {
   "cell_type": "code",
   "execution_count": 28,
   "metadata": {},
   "outputs": [
    {
     "name": "stdout",
     "output_type": "stream",
     "text": [
      "2869567.332309684 4082.00 1913.10 2168.90\n"
     ]
    }
   ],
   "source": [
    "df = pd.read_csv(\"idf/terr_post/eplusmtr.csv\")\n",
    "peak_demand_joule_terr_post = df[\"Electricity:Facility [J](Hourly)\"].max()\n",
    "df2 = pd.read_html(\"idf/terr_post/eplustbl.htm\")\n",
    "df_e = pd.DataFrame(df2[0])\n",
    "ann_energy_demand_kwh_terr_post = df_e.iloc[1,1]\n",
    "df3 = pd.DataFrame(df2[3])\n",
    "ann_elec_demand_kwh_terr_post = df3.iloc[16,1]\n",
    "ann_heat_demand_kwh_terr_post = df3.iloc[16,5]\n",
    "print(peak_demand_joule_terr_post, ann_energy_demand_kwh_terr_post, ann_elec_demand_kwh_terr_post, ann_heat_demand_kwh_terr_post)"
   ]
  },
  {
   "cell_type": "code",
   "execution_count": 17,
   "metadata": {},
   "outputs": [
    {
     "name": "stdout",
     "output_type": "stream",
     "text": [
      "\r\n",
      "/usr/local/bin/energyplus --weather /idf/apt_pre/IRL_Dublin.039690_IWEC.epw --output-directory /idf/apt_pre --idd /usr/local/bin/Energy+.idd --expandobjects --readvars /in.idf\r\n",
      "\n"
     ]
    }
   ],
   "source": [
    "del idf\n",
    "idf = IDF('/idf/apt_pre/mid_apt_pre.idf')\n",
    "idf.epw = \"idf/apt_pre/IRL_Dublin.039690_IWEC.epw\"\n",
    "idf.run(expandobjects=True, readvars=True, output_directory=\"/idf/apt_pre\")"
   ]
  },
  {
   "cell_type": "code",
   "execution_count": 30,
   "metadata": {},
   "outputs": [
    {
     "name": "stdout",
     "output_type": "stream",
     "text": [
      "6265227.970799999 7929.74 1381.93 6547.81\n"
     ]
    }
   ],
   "source": [
    "df = pd.read_csv(\"idf/mid_apt_pre/eplusmtr.csv\")\n",
    "peak_demand_joule_mid_apt_pre = df[\"Electricity:Facility [J](Hourly)\"].max()\n",
    "df2 = pd.read_html(\"idf/mid_apt_pre/eplustbl.htm\")\n",
    "df_e = pd.DataFrame(df2[0])\n",
    "ann_energy_demand_kwh_mid_apt_pre = df_e.iloc[1,1]\n",
    "df3 = pd.DataFrame(df2[3])\n",
    "ann_elec_demand_kwh_mid_apt_pre = df3.iloc[16,1]\n",
    "ann_heat_demand_kwh_mid_apt_pre = df3.iloc[16,5]\n",
    "print(peak_demand_joule_mid_apt_pre, ann_energy_demand_kwh_mid_apt_pre, ann_elec_demand_kwh_mid_apt_pre, ann_heat_demand_kwh_mid_apt_pre)"
   ]
  },
  {
   "cell_type": "code",
   "execution_count": 10,
   "metadata": {},
   "outputs": [
    {
     "ename": "NameError",
     "evalue": "name 'idf' is not defined",
     "output_type": "error",
     "traceback": [
      "\u001b[0;31m---------------------------------------------------------------------------\u001b[0m",
      "\u001b[0;31mNameError\u001b[0m                                 Traceback (most recent call last)",
      "\u001b[0;32m<ipython-input-10-2a37fc1ae9ca>\u001b[0m in \u001b[0;36m<module>\u001b[0;34m\u001b[0m\n\u001b[0;32m----> 1\u001b[0;31m \u001b[0;32mdel\u001b[0m \u001b[0midf\u001b[0m\u001b[0;34m\u001b[0m\u001b[0;34m\u001b[0m\u001b[0m\n\u001b[0m\u001b[1;32m      2\u001b[0m \u001b[0midf\u001b[0m \u001b[0;34m=\u001b[0m \u001b[0mIDF\u001b[0m\u001b[0;34m(\u001b[0m\u001b[0;34m'/idf/mid_apt_post/mid_apt_post.idf'\u001b[0m\u001b[0;34m)\u001b[0m\u001b[0;34m\u001b[0m\u001b[0;34m\u001b[0m\u001b[0m\n\u001b[1;32m      3\u001b[0m \u001b[0midf\u001b[0m\u001b[0;34m.\u001b[0m\u001b[0mepw\u001b[0m \u001b[0;34m=\u001b[0m \u001b[0;34m\"idf/mid_apt_post/IRL_Dublin.039690_IWEC.epw\"\u001b[0m\u001b[0;34m\u001b[0m\u001b[0;34m\u001b[0m\u001b[0m\n\u001b[1;32m      4\u001b[0m \u001b[0midf\u001b[0m\u001b[0;34m.\u001b[0m\u001b[0mrun\u001b[0m\u001b[0;34m(\u001b[0m\u001b[0mexpandobjects\u001b[0m\u001b[0;34m=\u001b[0m\u001b[0;32mTrue\u001b[0m\u001b[0;34m,\u001b[0m \u001b[0mreadvars\u001b[0m\u001b[0;34m=\u001b[0m\u001b[0;32mTrue\u001b[0m\u001b[0;34m,\u001b[0m \u001b[0moutput_directory\u001b[0m\u001b[0;34m=\u001b[0m\u001b[0;34m\"/idf/mid_apt_post\"\u001b[0m\u001b[0;34m)\u001b[0m\u001b[0;34m\u001b[0m\u001b[0;34m\u001b[0m\u001b[0m\n",
      "\u001b[0;31mNameError\u001b[0m: name 'idf' is not defined"
     ]
    }
   ],
   "source": [
    "del idf\n",
    "idf = IDF('/idf/mid_apt_post/mid_apt_post.idf')\n",
    "idf.epw = \"idf/mid_apt_post/IRL_Dublin.039690_IWEC.epw\"\n",
    "idf.run(expandobjects=True, readvars=True, output_directory=\"/idf/mid_apt_post\")"
   ]
  },
  {
   "cell_type": "code",
   "execution_count": 32,
   "metadata": {},
   "outputs": [
    {
     "name": "stdout",
     "output_type": "stream",
     "text": [
      "1036469.4732 3821.79 984.32 2837.47\n"
     ]
    }
   ],
   "source": [
    "df = pd.read_csv(\"idf/mid_apt_post/eplusmtr.csv\")\n",
    "peak_demand_joule_mid_apt_post = df[\"Electricity:Facility [J](Hourly)\"].max()\n",
    "df2 = pd.read_html(\"idf/mid_apt_post/eplustbl.htm\")\n",
    "df_e = pd.DataFrame(df2[0])\n",
    "ann_energy_demand_kwh_mid_apt_post = df_e.iloc[1,1]\n",
    "df3 = pd.DataFrame(df2[3])\n",
    "ann_elec_demand_kwh_mid_apt_post = df3.iloc[16,1]\n",
    "ann_heat_demand_kwh_mid_apt_post = df3.iloc[16,5]\n",
    "print(peak_demand_joule_mid_apt_post, ann_energy_demand_kwh_mid_apt_post, ann_elec_demand_kwh_mid_apt_post, ann_heat_demand_kwh_mid_apt_post)"
   ]
  },
  {
   "cell_type": "code",
   "execution_count": 33,
   "metadata": {},
   "outputs": [
    {
     "name": "stdout",
     "output_type": "stream",
     "text": [
      "\r\n",
      "/usr/local/bin/energyplus --weather /idf/top_apt_pre/IRL_Dublin.039690_IWEC.epw --output-directory /idf/top_apt_pre --idd /usr/local/bin/Energy+.idd --expandobjects --readvars /in.idf\r\n",
      "\n"
     ]
    }
   ],
   "source": [
    "del idf\n",
    "idf = IDF('/idf/top_apt_pre/top_apt_pre.idf')\n",
    "idf.epw = \"idf/top_apt_pre/IRL_Dublin.039690_IWEC.epw\"\n",
    "idf.run(expandobjects=True, readvars=True, output_directory=\"/idf/top_apt_pre\")"
   ]
  },
  {
   "cell_type": "code",
   "execution_count": 34,
   "metadata": {},
   "outputs": [
    {
     "name": "stdout",
     "output_type": "stream",
     "text": [
      "6627898.778400001 16025.90 2030.69 13995.20\n"
     ]
    }
   ],
   "source": [
    "df = pd.read_csv(\"idf/top_apt_pre/eplusmtr.csv\")\n",
    "peak_demand_joule_top_apt_pre = df[\"Electricity:Facility [J](Hourly)\"].max()\n",
    "df2 = pd.read_html(\"idf/top_apt_pre/eplustbl.htm\")\n",
    "df_e = pd.DataFrame(df2[0])\n",
    "ann_energy_demand_kwh_top_apt_pre = df_e.iloc[1,1]\n",
    "df3 = pd.DataFrame(df2[3])\n",
    "ann_elec_demand_kwh_top_apt_pre = df3.iloc[16,1]\n",
    "ann_heat_demand_kwh_top_apt_pre = df3.iloc[16,5]\n",
    "print(peak_demand_joule_top_apt_pre, ann_energy_demand_kwh_top_apt_pre, ann_elec_demand_kwh_top_apt_pre, ann_heat_demand_kwh_top_apt_pre)"
   ]
  },
  {
   "cell_type": "code",
   "execution_count": 35,
   "metadata": {},
   "outputs": [
    {
     "name": "stdout",
     "output_type": "stream",
     "text": [
      "\r\n",
      "/usr/local/bin/energyplus --weather /idf/top_apt_post/IRL_Dublin.039690_IWEC.epw --output-directory /idf/top_apt_post --idd /usr/local/bin/Energy+.idd --expandobjects --readvars /in.idf\r\n",
      "\n"
     ]
    }
   ],
   "source": [
    "del idf\n",
    "idf = IDF('/idf/top_apt_post/top_apt_post.idf')\n",
    "idf.epw = \"idf/top_apt_post/IRL_Dublin.039690_IWEC.epw\"\n",
    "idf.run(expandobjects=True, readvars=True, output_directory=\"/idf/top_apt_post\")"
   ]
  },
  {
   "cell_type": "code",
   "execution_count": 36,
   "metadata": {},
   "outputs": [
    {
     "name": "stdout",
     "output_type": "stream",
     "text": [
      "5803007.378400002 11013.22 1508.87 9504.34\n"
     ]
    }
   ],
   "source": [
    "df = pd.read_csv(\"idf/top_apt_post/eplusmtr.csv\")\n",
    "peak_demand_joule_top_apt_post = df[\"Electricity:Facility [J](Hourly)\"].max()\n",
    "df2 = pd.read_html(\"idf/top_apt_post/eplustbl.htm\")\n",
    "df_e = pd.DataFrame(df2[0])\n",
    "ann_energy_demand_kwh_top_apt_post = df_e.iloc[1,1]\n",
    "df3 = pd.DataFrame(df2[3])\n",
    "ann_elec_demand_kwh_top_apt_post = df3.iloc[16,1]\n",
    "ann_heat_demand_kwh_top_apt_post = df3.iloc[16,5]\n",
    "print(peak_demand_joule_top_apt_post, ann_energy_demand_kwh_top_apt_post, ann_elec_demand_kwh_top_apt_post, ann_heat_demand_kwh_top_apt_post)"
   ]
  },
  {
   "cell_type": "code",
   "execution_count": 37,
   "metadata": {},
   "outputs": [
    {
     "data": {
      "text/plain": [
       "5803007.378400002"
      ]
     },
     "execution_count": 37,
     "metadata": {},
     "output_type": "execute_result"
    }
   ],
   "source": [
    "peak_demand_joule_top_apt_post"
   ]
  },
  {
   "cell_type": "code",
   "execution_count": 69,
   "metadata": {},
   "outputs": [],
   "source": [
    "peak_data = [['Detatched housepre', peak_demand_joule_det_pre, ann_energy_demand_kwh_det_pre, ann_elec_demand_kwh_det_pre, ann_heat_demand_kwh_det_pre], ['Detatched housepost', peak_demand_joule_det_post, ann_energy_demand_kwh_det_post, ann_elec_demand_kwh_det_post, ann_heat_demand_kwh_det_post], ['Semi detatched housepre', peak_demand_joule_semid_pre, ann_energy_demand_kwh_semid_pre, ann_elec_demand_kwh_semid_pre, ann_heat_demand_kwh_semid_pre],['Semi detatched housepost', peak_demand_joule_semid_post, ann_energy_demand_kwh_semid_post, ann_elec_demand_kwh_semid_post, ann_heat_demand_kwh_semid_post],['Terraced housepre', peak_demand_joule_terr_pre, ann_energy_demand_kwh_terr_pre, ann_elec_demand_kwh_terr_pre, ann_heat_demand_kwh_terr_pre], ['Terraced housepost', peak_demand_joule_terr_post, ann_energy_demand_kwh_terr_post, ann_elec_demand_kwh_terr_post, ann_heat_demand_kwh_terr_post], ['Apartmentpre', peak_demand_joule_mid_apt_pre, ann_energy_demand_kwh_mid_apt_pre, ann_elec_demand_kwh_mid_apt_pre, ann_heat_demand_kwh_mid_apt_pre],['Apartmentpost', peak_demand_joule_mid_apt_post, ann_energy_demand_kwh_mid_apt_post, ann_elec_demand_kwh_mid_apt_post, ann_heat_demand_kwh_mid_apt_post],['Top floor apt.pre', peak_demand_joule_top_apt_pre, ann_energy_demand_kwh_top_apt_pre, ann_elec_demand_kwh_top_apt_pre, ann_heat_demand_kwh_top_apt_pre],['Top floor apt.post', peak_demand_joule_top_apt_post, ann_energy_demand_kwh_top_apt_post, ann_elec_demand_kwh_top_apt_post, ann_heat_demand_kwh_top_apt_post], ] "
   ]
  },
  {
   "cell_type": "code",
   "execution_count": 70,
   "metadata": {},
   "outputs": [],
   "source": [
    "df_peaks = pd.DataFrame(peak_data, columns = ['dwelling_type','peak_hourly_elec_demand(J)', \"annual_energy_demand_kwh\", \"annual_elec_demand_kwh\", \"annual_heat_demand_kwh\"]) "
   ]
  },
  {
   "cell_type": "code",
   "execution_count": 71,
   "metadata": {},
   "outputs": [
    {
     "data": {
      "text/html": [
       "<div>\n",
       "<style scoped>\n",
       "    .dataframe tbody tr th:only-of-type {\n",
       "        vertical-align: middle;\n",
       "    }\n",
       "\n",
       "    .dataframe tbody tr th {\n",
       "        vertical-align: top;\n",
       "    }\n",
       "\n",
       "    .dataframe thead th {\n",
       "        text-align: right;\n",
       "    }\n",
       "</style>\n",
       "<table border=\"1\" class=\"dataframe\">\n",
       "  <thead>\n",
       "    <tr style=\"text-align: right;\">\n",
       "      <th></th>\n",
       "      <th>dwelling_type</th>\n",
       "      <th>peak_hourly_elec_demand(J)</th>\n",
       "      <th>annual_energy_demand_kwh</th>\n",
       "      <th>annual_elec_demand_kwh</th>\n",
       "      <th>annual_heat_demand_kwh</th>\n",
       "    </tr>\n",
       "  </thead>\n",
       "  <tbody>\n",
       "    <tr>\n",
       "      <th>0</th>\n",
       "      <td>Detatched housepre</td>\n",
       "      <td>8.584366e+06</td>\n",
       "      <td>26343.66</td>\n",
       "      <td>6439.15</td>\n",
       "      <td>19904.51</td>\n",
       "    </tr>\n",
       "    <tr>\n",
       "      <th>1</th>\n",
       "      <td>Detatched housepost</td>\n",
       "      <td>7.240167e+06</td>\n",
       "      <td>16097.65</td>\n",
       "      <td>5171.22</td>\n",
       "      <td>10926.43</td>\n",
       "    </tr>\n",
       "    <tr>\n",
       "      <th>2</th>\n",
       "      <td>Semi detatched housepre</td>\n",
       "      <td>6.177061e+06</td>\n",
       "      <td>25113.73</td>\n",
       "      <td>5149.22</td>\n",
       "      <td>19964.51</td>\n",
       "    </tr>\n",
       "    <tr>\n",
       "      <th>3</th>\n",
       "      <td>Semi detatched housepost</td>\n",
       "      <td>4.723728e+06</td>\n",
       "      <td>9736.54</td>\n",
       "      <td>3804.43</td>\n",
       "      <td>5932.10</td>\n",
       "    </tr>\n",
       "    <tr>\n",
       "      <th>4</th>\n",
       "      <td>Terraced housepre</td>\n",
       "      <td>3.783938e+06</td>\n",
       "      <td>15126.49</td>\n",
       "      <td>2531.93</td>\n",
       "      <td>12594.56</td>\n",
       "    </tr>\n",
       "    <tr>\n",
       "      <th>5</th>\n",
       "      <td>Terraced housepost</td>\n",
       "      <td>2.869567e+06</td>\n",
       "      <td>4082.00</td>\n",
       "      <td>1913.10</td>\n",
       "      <td>2168.90</td>\n",
       "    </tr>\n",
       "    <tr>\n",
       "      <th>6</th>\n",
       "      <td>Apartmentpre</td>\n",
       "      <td>6.265228e+06</td>\n",
       "      <td>7929.74</td>\n",
       "      <td>1381.93</td>\n",
       "      <td>6547.81</td>\n",
       "    </tr>\n",
       "    <tr>\n",
       "      <th>7</th>\n",
       "      <td>Apartmentpost</td>\n",
       "      <td>1.036469e+06</td>\n",
       "      <td>3821.79</td>\n",
       "      <td>984.32</td>\n",
       "      <td>2837.47</td>\n",
       "    </tr>\n",
       "    <tr>\n",
       "      <th>8</th>\n",
       "      <td>Top floor apt.pre</td>\n",
       "      <td>6.627899e+06</td>\n",
       "      <td>16025.90</td>\n",
       "      <td>2030.69</td>\n",
       "      <td>13995.20</td>\n",
       "    </tr>\n",
       "    <tr>\n",
       "      <th>9</th>\n",
       "      <td>Top floor apt.post</td>\n",
       "      <td>5.803007e+06</td>\n",
       "      <td>11013.22</td>\n",
       "      <td>1508.87</td>\n",
       "      <td>9504.34</td>\n",
       "    </tr>\n",
       "  </tbody>\n",
       "</table>\n",
       "</div>"
      ],
      "text/plain": [
       "              dwelling_type  peak_hourly_elec_demand(J)  \\\n",
       "0        Detatched housepre                8.584366e+06   \n",
       "1       Detatched housepost                7.240167e+06   \n",
       "2   Semi detatched housepre                6.177061e+06   \n",
       "3  Semi detatched housepost                4.723728e+06   \n",
       "4         Terraced housepre                3.783938e+06   \n",
       "5        Terraced housepost                2.869567e+06   \n",
       "6              Apartmentpre                6.265228e+06   \n",
       "7             Apartmentpost                1.036469e+06   \n",
       "8         Top floor apt.pre                6.627899e+06   \n",
       "9        Top floor apt.post                5.803007e+06   \n",
       "\n",
       "  annual_energy_demand_kwh annual_elec_demand_kwh annual_heat_demand_kwh  \n",
       "0                 26343.66                6439.15               19904.51  \n",
       "1                 16097.65                5171.22               10926.43  \n",
       "2                 25113.73                5149.22               19964.51  \n",
       "3                  9736.54                3804.43                5932.10  \n",
       "4                 15126.49                2531.93               12594.56  \n",
       "5                  4082.00                1913.10                2168.90  \n",
       "6                  7929.74                1381.93                6547.81  \n",
       "7                  3821.79                 984.32                2837.47  \n",
       "8                 16025.90                2030.69               13995.20  \n",
       "9                 11013.22                1508.87                9504.34  "
      ]
     },
     "execution_count": 71,
     "metadata": {},
     "output_type": "execute_result"
    }
   ],
   "source": [
    "df_peaks"
   ]
  },
  {
   "cell_type": "code",
   "execution_count": 72,
   "metadata": {},
   "outputs": [],
   "source": [
    "df_peaks[\"peak_elec_demand(kW)\"] = df_peaks[\"peak_hourly_elec_demand(J)\"]/3600000"
   ]
  },
  {
   "cell_type": "code",
   "execution_count": 73,
   "metadata": {},
   "outputs": [],
   "source": [
    "df_peaks[\"peak_elec_demand(kVA)\"] = df_peaks[\"peak_elec_demand(kW)\"]*0.85"
   ]
  },
  {
   "cell_type": "code",
   "execution_count": 74,
   "metadata": {},
   "outputs": [
    {
     "data": {
      "text/html": [
       "<div>\n",
       "<style scoped>\n",
       "    .dataframe tbody tr th:only-of-type {\n",
       "        vertical-align: middle;\n",
       "    }\n",
       "\n",
       "    .dataframe tbody tr th {\n",
       "        vertical-align: top;\n",
       "    }\n",
       "\n",
       "    .dataframe thead th {\n",
       "        text-align: right;\n",
       "    }\n",
       "</style>\n",
       "<table border=\"1\" class=\"dataframe\">\n",
       "  <thead>\n",
       "    <tr style=\"text-align: right;\">\n",
       "      <th></th>\n",
       "      <th>dwelling_type</th>\n",
       "      <th>peak_hourly_elec_demand(J)</th>\n",
       "      <th>annual_energy_demand_kwh</th>\n",
       "      <th>annual_elec_demand_kwh</th>\n",
       "      <th>annual_heat_demand_kwh</th>\n",
       "      <th>peak_elec_demand(kW)</th>\n",
       "      <th>peak_elec_demand(kVA)</th>\n",
       "    </tr>\n",
       "  </thead>\n",
       "  <tbody>\n",
       "    <tr>\n",
       "      <th>0</th>\n",
       "      <td>Detatched housepre</td>\n",
       "      <td>8.584366e+06</td>\n",
       "      <td>26343.66</td>\n",
       "      <td>6439.15</td>\n",
       "      <td>19904.51</td>\n",
       "      <td>2.384546</td>\n",
       "      <td>2.026864</td>\n",
       "    </tr>\n",
       "    <tr>\n",
       "      <th>1</th>\n",
       "      <td>Detatched housepost</td>\n",
       "      <td>7.240167e+06</td>\n",
       "      <td>16097.65</td>\n",
       "      <td>5171.22</td>\n",
       "      <td>10926.43</td>\n",
       "      <td>2.011157</td>\n",
       "      <td>1.709484</td>\n",
       "    </tr>\n",
       "    <tr>\n",
       "      <th>2</th>\n",
       "      <td>Semi detatched housepre</td>\n",
       "      <td>6.177061e+06</td>\n",
       "      <td>25113.73</td>\n",
       "      <td>5149.22</td>\n",
       "      <td>19964.51</td>\n",
       "      <td>1.715850</td>\n",
       "      <td>1.458473</td>\n",
       "    </tr>\n",
       "    <tr>\n",
       "      <th>3</th>\n",
       "      <td>Semi detatched housepost</td>\n",
       "      <td>4.723728e+06</td>\n",
       "      <td>9736.54</td>\n",
       "      <td>3804.43</td>\n",
       "      <td>5932.10</td>\n",
       "      <td>1.312147</td>\n",
       "      <td>1.115325</td>\n",
       "    </tr>\n",
       "    <tr>\n",
       "      <th>4</th>\n",
       "      <td>Terraced housepre</td>\n",
       "      <td>3.783938e+06</td>\n",
       "      <td>15126.49</td>\n",
       "      <td>2531.93</td>\n",
       "      <td>12594.56</td>\n",
       "      <td>1.051094</td>\n",
       "      <td>0.893430</td>\n",
       "    </tr>\n",
       "    <tr>\n",
       "      <th>5</th>\n",
       "      <td>Terraced housepost</td>\n",
       "      <td>2.869567e+06</td>\n",
       "      <td>4082.00</td>\n",
       "      <td>1913.10</td>\n",
       "      <td>2168.90</td>\n",
       "      <td>0.797102</td>\n",
       "      <td>0.677537</td>\n",
       "    </tr>\n",
       "    <tr>\n",
       "      <th>6</th>\n",
       "      <td>Apartmentpre</td>\n",
       "      <td>6.265228e+06</td>\n",
       "      <td>7929.74</td>\n",
       "      <td>1381.93</td>\n",
       "      <td>6547.81</td>\n",
       "      <td>1.740341</td>\n",
       "      <td>1.479290</td>\n",
       "    </tr>\n",
       "    <tr>\n",
       "      <th>7</th>\n",
       "      <td>Apartmentpost</td>\n",
       "      <td>1.036469e+06</td>\n",
       "      <td>3821.79</td>\n",
       "      <td>984.32</td>\n",
       "      <td>2837.47</td>\n",
       "      <td>0.287908</td>\n",
       "      <td>0.244722</td>\n",
       "    </tr>\n",
       "    <tr>\n",
       "      <th>8</th>\n",
       "      <td>Top floor apt.pre</td>\n",
       "      <td>6.627899e+06</td>\n",
       "      <td>16025.90</td>\n",
       "      <td>2030.69</td>\n",
       "      <td>13995.20</td>\n",
       "      <td>1.841083</td>\n",
       "      <td>1.564921</td>\n",
       "    </tr>\n",
       "    <tr>\n",
       "      <th>9</th>\n",
       "      <td>Top floor apt.post</td>\n",
       "      <td>5.803007e+06</td>\n",
       "      <td>11013.22</td>\n",
       "      <td>1508.87</td>\n",
       "      <td>9504.34</td>\n",
       "      <td>1.611946</td>\n",
       "      <td>1.370155</td>\n",
       "    </tr>\n",
       "  </tbody>\n",
       "</table>\n",
       "</div>"
      ],
      "text/plain": [
       "              dwelling_type  peak_hourly_elec_demand(J)  \\\n",
       "0        Detatched housepre                8.584366e+06   \n",
       "1       Detatched housepost                7.240167e+06   \n",
       "2   Semi detatched housepre                6.177061e+06   \n",
       "3  Semi detatched housepost                4.723728e+06   \n",
       "4         Terraced housepre                3.783938e+06   \n",
       "5        Terraced housepost                2.869567e+06   \n",
       "6              Apartmentpre                6.265228e+06   \n",
       "7             Apartmentpost                1.036469e+06   \n",
       "8         Top floor apt.pre                6.627899e+06   \n",
       "9        Top floor apt.post                5.803007e+06   \n",
       "\n",
       "  annual_energy_demand_kwh annual_elec_demand_kwh annual_heat_demand_kwh  \\\n",
       "0                 26343.66                6439.15               19904.51   \n",
       "1                 16097.65                5171.22               10926.43   \n",
       "2                 25113.73                5149.22               19964.51   \n",
       "3                  9736.54                3804.43                5932.10   \n",
       "4                 15126.49                2531.93               12594.56   \n",
       "5                  4082.00                1913.10                2168.90   \n",
       "6                  7929.74                1381.93                6547.81   \n",
       "7                  3821.79                 984.32                2837.47   \n",
       "8                 16025.90                2030.69               13995.20   \n",
       "9                 11013.22                1508.87                9504.34   \n",
       "\n",
       "   peak_elec_demand(kW)  peak_elec_demand(kVA)  \n",
       "0              2.384546               2.026864  \n",
       "1              2.011157               1.709484  \n",
       "2              1.715850               1.458473  \n",
       "3              1.312147               1.115325  \n",
       "4              1.051094               0.893430  \n",
       "5              0.797102               0.677537  \n",
       "6              1.740341               1.479290  \n",
       "7              0.287908               0.244722  \n",
       "8              1.841083               1.564921  \n",
       "9              1.611946               1.370155  "
      ]
     },
     "execution_count": 74,
     "metadata": {},
     "output_type": "execute_result"
    }
   ],
   "source": [
    "df_peaks"
   ]
  },
  {
   "cell_type": "code",
   "execution_count": 86,
   "metadata": {},
   "outputs": [],
   "source": [
    "df_peaks.to_csv(\"/idf/resi_modelling/energy_demand_by_building_type.csv\")"
   ]
  },
  {
   "cell_type": "code",
   "execution_count": null,
   "metadata": {},
   "outputs": [],
   "source": []
  }
 ],
 "metadata": {
  "kernelspec": {
   "display_name": "Python 3",
   "language": "python",
   "name": "python3"
  },
  "language_info": {
   "codemirror_mode": {
    "name": "ipython",
    "version": 3
   },
   "file_extension": ".py",
   "mimetype": "text/x-python",
   "name": "python",
   "nbconvert_exporter": "python",
   "pygments_lexer": "ipython3",
   "version": "3.7.9"
  }
 },
 "nbformat": 4,
 "nbformat_minor": 4
}
